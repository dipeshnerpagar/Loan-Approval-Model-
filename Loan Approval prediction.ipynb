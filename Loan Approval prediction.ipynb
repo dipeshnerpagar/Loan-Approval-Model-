{
 "cells": [
  {
   "cell_type": "code",
   "execution_count": null,
   "id": "23409bbb",
   "metadata": {},
   "outputs": [],
   "source": [
    "import numpy as np\n",
    "import pandas as pd\n",
    "import seaborn as sns \n",
    "import matplotlib.pyplot as plt\n",
    "from sklearn import svm"
   ]
  },
  {
   "cell_type": "code",
   "execution_count": null,
   "id": "b6c8e189",
   "metadata": {},
   "outputs": [],
   "source": [
    "df=pd.read_csv(\"C:\\\\Users\\\\DIPESH\\\\Downloads\\\\Copy of loan.csv\")"
   ]
  },
  {
   "cell_type": "code",
   "execution_count": null,
   "id": "420efa84",
   "metadata": {
    "scrolled": true
   },
   "outputs": [],
   "source": [
    "df.head()"
   ]
  },
  {
   "cell_type": "code",
   "execution_count": null,
   "id": "4a2cb8a3",
   "metadata": {},
   "outputs": [],
   "source": [
    "df.info"
   ]
  },
  {
   "cell_type": "code",
   "execution_count": null,
   "id": "0f01e2cb",
   "metadata": {},
   "outputs": [],
   "source": [
    "df.isnull().sum()"
   ]
  },
  {
   "cell_type": "code",
   "execution_count": null,
   "id": "68c1d781",
   "metadata": {},
   "outputs": [],
   "source": [
    "df['loanAmount_log']=np.log(df['LoanAmount'])\n",
    "df['loanAmount_log'].hist(bins=20)"
   ]
  },
  {
   "cell_type": "code",
   "execution_count": null,
   "id": "56f6e63b",
   "metadata": {},
   "outputs": [],
   "source": [
    "df.isnull().sum()"
   ]
  },
  {
   "cell_type": "code",
   "execution_count": null,
   "id": "9be47af1",
   "metadata": {},
   "outputs": [],
   "source": [
    "import pandas as pd\n",
    "import numpy as np\n",
    "from sklearn.impute import SimpleImputer\n",
    "import matplotlib.pyplot as plt\n",
    "\n",
    "# Load the dataset\n",
    "df = pd.read_csv(\"C:\\\\Users\\\\DIPESH\\\\Downloads\\\\Copy of loan.csv\")  # Replace with your actual file path\n",
    "\n",
    "# Display initial missing values\n",
    "print(\"Initial Missing Values:\\n\", df.isnull().sum())\n",
    "\n",
    "# --- Step 1: Mean Imputation for Numerical Columns ---\n",
    "\n",
    "# List of numerical columns to impute\n",
    "numerical_cols = ['LoanAmount', 'Loan_Amount_Term', 'Credit_History']\n",
    "\n",
    "# Initialize the SimpleImputer with mean strategy\n",
    "mean_imputer = SimpleImputer(strategy='mean')\n",
    "\n",
    "# Fit and transform the data\n",
    "df[numerical_cols] = mean_imputer.fit_transform(df[numerical_cols])\n",
    "\n",
    "# Verify imputation\n",
    "print(\"\\nMissing Values After Mean Imputation:\\n\", df[numerical_cols].isnull().sum())\n",
    "\n",
    "# --- Step 2: Recompute Derived Features ---\n",
    "\n",
    "# Check for non-positive values in 'LoanAmount'\n",
    "if (df['LoanAmount'] <= 0).any():\n",
    "    df['LoanAmount'] = df['LoanAmount'].apply(lambda x: x if x > 0 else 1)\n",
    "    print(\"\\nAdjusted non-positive 'LoanAmount' values for log transformation.\")\n",
    "\n",
    "# Create 'loanAmount_log' by applying natural logarithm\n",
    "df['loanAmount_log'] = np.log(df['LoanAmount'])\n",
    "\n",
    "# Check for missing values in 'loanAmount_log'\n",
    "print(\"\\nMissing Values in 'loanAmount_log' After Recomputing:\\n\", df['loanAmount_log'].isnull().sum())\n",
    "\n",
    "# --- Step 3: Visualize the Distribution ---\n",
    "\n",
    "plt.figure(figsize=(12, 5))\n",
    "\n",
    "# After Imputation\n",
    "plt.subplot(1, 2, 1)\n",
    "df['LoanAmount'].hist(bins=20, color='skyblue', edgecolor='black')\n",
    "plt.title('LoanAmount Distribution After Imputation')\n",
    "plt.xlabel('LoanAmount')\n",
    "plt.ylabel('Frequency')\n",
    "\n",
    "# Distribution of 'loanAmount_log'\n",
    "plt.subplot(1, 2, 2)\n",
    "df['loanAmount_log'].hist(bins=20, color='salmon', edgecolor='black')\n",
    "plt.title('Log-Transformed LoanAmount Distribution')\n",
    "plt.xlabel('Log(LoanAmount)')\n",
    "plt.ylabel('Frequency')\n",
    "\n",
    "plt.tight_layout()\n",
    "plt.show()\n",
    "\n",
    "# Optional: Save the cleaned data\n",
    "# df.to_csv('loan_data_cleaned.csv', index=False)"
   ]
  },
  {
   "cell_type": "code",
   "execution_count": null,
   "id": "f0ebd55f",
   "metadata": {},
   "outputs": [],
   "source": [
    "df.isnull().sum()"
   ]
  },
  {
   "cell_type": "code",
   "execution_count": null,
   "id": "1acbe479",
   "metadata": {},
   "outputs": [],
   "source": [
    "df['Gender'].fillna(df['Gender'].mode()[0], inplace=True)\n",
    "df['Married'].fillna(df['Married'].mode()[0], inplace=True)\n",
    "df['Self_Employed'].fillna(df['Self_Employed'].mode()[0], inplace=True)\n",
    "df['Dependents'].fillna(df['Dependents'].mode()[0], inplace=True)"
   ]
  },
  {
   "cell_type": "code",
   "execution_count": null,
   "id": "36407d14",
   "metadata": {},
   "outputs": [],
   "source": [
    "df.isnull().sum()"
   ]
  },
  {
   "cell_type": "code",
   "execution_count": null,
   "id": "5fad43ba",
   "metadata": {},
   "outputs": [],
   "source": [
    "df['TotalIncome']=df['ApplicantIncome']+df['CoapplicantIncome']\n",
    "df['TotalIncome_log']=np.log(df['TotalIncome'])\n",
    "df['TotalIncome_log'].hist(bins=20)"
   ]
  },
  {
   "cell_type": "code",
   "execution_count": null,
   "id": "d84e6bea",
   "metadata": {},
   "outputs": [],
   "source": [
    "x= df.iloc[:,np.r_[1:5,9:11,13:15]].values\n",
    "y= df.iloc[:,12].values\n",
    "x"
   ]
  },
  {
   "cell_type": "code",
   "execution_count": null,
   "id": "f6b1a13c",
   "metadata": {},
   "outputs": [],
   "source": [
    "y"
   ]
  },
  {
   "cell_type": "code",
   "execution_count": null,
   "id": "c828cf9a",
   "metadata": {},
   "outputs": [],
   "source": [
    "print(\"per of missing gender is %2f%% \" %((df['Gender'].isnull().sum()/df.shape[0])*100))"
   ]
  },
  {
   "cell_type": "code",
   "execution_count": null,
   "id": "c47f3d45",
   "metadata": {},
   "outputs": [],
   "source": [
    "print('number of people who take loan as group by gender: ')\n",
    "print(df['Gender'].value_counts())\n",
    "sns.countplot(x='Gender',data =df,palette='Set1')"
   ]
  },
  {
   "cell_type": "code",
   "execution_count": null,
   "id": "51928110",
   "metadata": {},
   "outputs": [],
   "source": [
    "print('number of people who take loan as group by marital status: ')\n",
    "print(df['Married'].value_counts())\n",
    "sns.countplot(x='Married',data =df,palette='Set1')"
   ]
  },
  {
   "cell_type": "code",
   "execution_count": null,
   "id": "0bc83ea7",
   "metadata": {
    "scrolled": true
   },
   "outputs": [],
   "source": [
    "print('number of people who take loan as group by Dependents: ')\n",
    "print(df['Dependents'].value_counts())\n",
    "sns.countplot(x='Dependents',data =df,palette='Set1')"
   ]
  },
  {
   "cell_type": "code",
   "execution_count": null,
   "id": "ec10e6e4",
   "metadata": {},
   "outputs": [],
   "source": [
    "print('number of people who take loan as group by Self Employed: ')\n",
    "print(df['Self_Employed'].value_counts())\n",
    "sns.countplot(x='Self_Employed',data =df,palette='Set1')"
   ]
  },
  {
   "cell_type": "code",
   "execution_count": null,
   "id": "3e3142f8",
   "metadata": {},
   "outputs": [],
   "source": [
    "print('number of people who take loan as group by Loadamount: ')\n",
    "print(df['LoanAmount'].value_counts())\n",
    "sns.countplot(x='LoanAmount',data =df,palette='Set1')"
   ]
  },
  {
   "cell_type": "code",
   "execution_count": null,
   "id": "47917f79",
   "metadata": {},
   "outputs": [],
   "source": [
    "print('number of people who take loan as group by credi history: ')\n",
    "print(df['Credit_History'].value_counts())\n",
    "sns.countplot(x='Credit_History',data =df,palette='Set1')"
   ]
  },
  {
   "cell_type": "code",
   "execution_count": null,
   "id": "610eef86",
   "metadata": {},
   "outputs": [],
   "source": [
    "from sklearn.model_selection import train_test_split\n",
    "x_train,x_test,y_train,y_test=train_test_split(x,y,test_size=0.2,random_state=0)\n",
    "\n",
    "from sklearn.preprocessing import LabelEncoder\n",
    "Labelencoder_x= LabelEncoder()\n",
    "\n",
    "print(x_train)"
   ]
  },
  {
   "cell_type": "code",
   "execution_count": null,
   "id": "4f34fe4a",
   "metadata": {},
   "outputs": [],
   "source": [
    "for i in range(0,5):\n",
    "    x_train[:,i]=Labelencoder_x.fit_transform(x_train[:,i])\n",
    "    x_train[:,7]=Labelencoder_x.fit_transform(x_train[:,7])\n",
    "    \n",
    "x_train"
   ]
  },
  {
   "cell_type": "code",
   "execution_count": null,
   "id": "1568b5bb",
   "metadata": {},
   "outputs": [],
   "source": [
    "Labelencoder_y= LabelEncoder()\n",
    "y_train =Labelencoder_y.fit_transform(y_train)\n",
    "\n",
    "y_train"
   ]
  },
  {
   "cell_type": "code",
   "execution_count": null,
   "id": "9cd5815c",
   "metadata": {},
   "outputs": [],
   "source": [
    "for i in range(0,5):\n",
    "    x_test[:,i]=Labelencoder_x.fit_transform(x_test[:,i])\n",
    "    x_test[:,7] =Labelencoder_x.fit_transform(x_test[:,7])\n",
    "    \n",
    "x_test"
   ]
  },
  {
   "cell_type": "code",
   "execution_count": null,
   "id": "a0a31141",
   "metadata": {},
   "outputs": [],
   "source": [
    "Labelencoder_y= LabelEncoder()\n",
    "\n",
    "y_test=Labelencoder_y.fit_transform(y_test)\n",
    "\n",
    "y_test"
   ]
  },
  {
   "cell_type": "code",
   "execution_count": null,
   "id": "8e39ebcf",
   "metadata": {},
   "outputs": [],
   "source": [
    "from sklearn.preprocessing import StandardScaler\n",
    "\n",
    "ss = StandardScaler()\n",
    "x_train= ss.fit_transform(x_train)\n",
    "x_test=ss.fit_transform(x_test)"
   ]
  },
  {
   "cell_type": "code",
   "execution_count": null,
   "id": "b993d2c2",
   "metadata": {},
   "outputs": [],
   "source": [
    "from sklearn.ensemble import RandomForestClassifier\n",
    "\n",
    "rf_clf= RandomForestClassifier()\n",
    "rf_clf.fit(x_train,y_train)"
   ]
  },
  {
   "cell_type": "code",
   "execution_count": null,
   "id": "075349d2",
   "metadata": {},
   "outputs": [],
   "source": [
    "from sklearn import metrics\n",
    "y_pred = rf_clf.predict(x_test)\n",
    "\n",
    "print(\"accuracy of random clf is \", metrics.accuracy_score(y_pred,y_test))\n",
    "y_pred\n"
   ]
  },
  {
   "cell_type": "code",
   "execution_count": null,
   "id": "c4558a7c",
   "metadata": {},
   "outputs": [],
   "source": [
    "from sklearn.naive_bayes import GaussianNB\n",
    "nb_clf = GaussianNB()\n",
    "nb_clf.fit(x_train,y_train)"
   ]
  },
  {
   "cell_type": "code",
   "execution_count": null,
   "id": "371aa82d",
   "metadata": {},
   "outputs": [],
   "source": [
    "y_pred=nb_clf.predict(x_test)\n",
    "print('accuracy of naive bayes is ',metrics.accuracy_score(y_pred,y_test))"
   ]
  },
  {
   "cell_type": "code",
   "execution_count": null,
   "id": "9b43864b",
   "metadata": {},
   "outputs": [],
   "source": [
    "# y_pred"
   ]
  },
  {
   "cell_type": "code",
   "execution_count": null,
   "id": "7ac3b099",
   "metadata": {},
   "outputs": [],
   "source": [
    "from sklearn.tree import DecisionTreeClassifier\n",
    "dt_clf = DecisionTreeClassifier()\n",
    "dt_clf.fit(x_train,y_train)\n"
   ]
  },
  {
   "cell_type": "code",
   "execution_count": null,
   "id": "183ecabc",
   "metadata": {},
   "outputs": [],
   "source": [
    "y_pred=dt_clf.predict(x_test)\n",
    "print(\"accuarcy of DT is\",metrics.accuracy_score(y_pred,y_test))"
   ]
  },
  {
   "cell_type": "code",
   "execution_count": null,
   "id": "94914bb3",
   "metadata": {},
   "outputs": [],
   "source": [
    "# y_pred"
   ]
  },
  {
   "cell_type": "code",
   "execution_count": null,
   "id": "24b25ba7",
   "metadata": {},
   "outputs": [],
   "source": [
    "from sklearn.neighbors import KNeighborsClassifier\n",
    "kn_clf= KNeighborsClassifier()\n",
    "kn_clf.fit(x_train,y_train)"
   ]
  },
  {
   "cell_type": "code",
   "execution_count": null,
   "id": "d5cc932a",
   "metadata": {},
   "outputs": [],
   "source": [
    "y_pred= kn_clf.predict(x_test)\n",
    "print('accuracy of kn is ',metrics.accuracy_score(y_pred,y_test))\n",
    "\n"
   ]
  },
  {
   "cell_type": "code",
   "execution_count": null,
   "id": "892ec614",
   "metadata": {},
   "outputs": [],
   "source": [
    "from sklearn.linear_model import LogisticRegression\n",
    "lr= LogisticRegression()\n",
    "lr.fit(x_train,y_train)"
   ]
  },
  {
   "cell_type": "code",
   "execution_count": null,
   "id": "6f62112e",
   "metadata": {},
   "outputs": [],
   "source": [
    "y_pred=lr.predict(x_test)\n",
    "print('accuracy of lr is ',metrics.accuracy_score(y_pred,y_test))"
   ]
  },
  {
   "cell_type": "code",
   "execution_count": null,
   "id": "d6576ee2",
   "metadata": {},
   "outputs": [],
   "source": [
    "from sklearn.metrics import classification_report, roc_auc_score\n",
    "\n",
    "# Assuming `best_model` is your selected model\n",
    "y_pred = lr.predict(x_test)\n",
    "y_proba = lr.predict_proba(x_test)[:,1]\n",
    "\n",
    "print(classification_report(y_test, y_pred))\n",
    "print(f\"ROC-AUC Score: {roc_auc_score(y_test, y_proba)}\")\n"
   ]
  },
  {
   "cell_type": "code",
   "execution_count": null,
   "id": "8e8f01c2",
   "metadata": {},
   "outputs": [],
   "source": [
    "from sklearn.model_selection import GridSearchCV\n",
    "\n",
    "# Define the parameter grid\n",
    "param_grid = {\n",
    "    'C': [0.1, 1, 10],\n",
    "    'solver': ['lbfgs', 'liblinear'],\n",
    "    'penalty': ['l2']\n",
    "}\n",
    "\n",
    "# Initialize GridSearch\n",
    "grid = GridSearchCV(LogisticRegression(), param_grid, cv=5, scoring='accuracy')\n",
    "grid.fit(x_train, y_train)\n",
    "\n",
    "print(f\"Best Parameters: {grid.best_params_}\")\n",
    "print(f\"Best Cross-Validation Accuracy: {grid.best_score_}\")\n"
   ]
  },
  {
   "cell_type": "code",
   "execution_count": null,
   "id": "9440ce62",
   "metadata": {},
   "outputs": [],
   "source": [
    "import joblib\n",
    "\n",
    "# Assuming `best_model` is your trained model\n",
    "joblib.dump(lr, 'loan_approval_model.joblib')\n"
   ]
  },
  {
   "cell_type": "code",
   "execution_count": null,
   "id": "5751fecf",
   "metadata": {},
   "outputs": [],
   "source": [
    "from sklearn.pipeline import Pipeline\n",
    "from sklearn.preprocessing import StandardScaler\n",
    "\n",
    "pipeline = Pipeline([\n",
    "    ('scaler', StandardScaler()),\n",
    "    ('classifier', lr)\n",
    "])\n",
    "\n",
    "# Fit the pipeline\n",
    "pipeline.fit(x_train, y_train)\n",
    "\n",
    "# Save the pipeline\n",
    "joblib.dump(pipeline, 'loan_approval_pipeline.joblib')\n"
   ]
  },
  {
   "cell_type": "code",
   "execution_count": null,
   "id": "d00fe78e",
   "metadata": {},
   "outputs": [],
   "source": [
    "data = request.form.to_dict()\n",
    "print(data)  # Log the data to check the received values\n"
   ]
  },
  {
   "cell_type": "code",
   "execution_count": null,
   "id": "8203704f",
   "metadata": {},
   "outputs": [],
   "source": []
  }
 ],
 "metadata": {
  "kernelspec": {
   "display_name": "Python 3 (ipykernel)",
   "language": "python",
   "name": "python3"
  },
  "language_info": {
   "codemirror_mode": {
    "name": "ipython",
    "version": 3
   },
   "file_extension": ".py",
   "mimetype": "text/x-python",
   "name": "python",
   "nbconvert_exporter": "python",
   "pygments_lexer": "ipython3",
   "version": "3.11.4"
  }
 },
 "nbformat": 4,
 "nbformat_minor": 5
}
